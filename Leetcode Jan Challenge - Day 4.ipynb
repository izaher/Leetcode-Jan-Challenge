{
 "cells": [
  {
   "cell_type": "markdown",
   "metadata": {},
   "source": [
    "# Leetcode Jan Challenge (day 4)\n",
    "## Problem: Merge Two Sorted Lists"
   ]
  },
  {
   "cell_type": "markdown",
   "metadata": {},
   "source": [
    "Merge two sorted linked lists and return it as a sorted list. The list should be made by splicing together the nodes of the first two lists.\n",
    "\n",
    " \n",
    "\n",
    "Example 1:\n",
    "<img src=\"https://assets.leetcode.com/uploads/2020/10/03/merge_ex1.jpg\"><br>\n",
    "Input: l1 = [1,2,4], l2 = [1,3,4]<br>\n",
    "Output: [1,1,2,3,4,4]<br><br>\n",
    "Example 2:<br>\n",
    "Input: l1 = [], l2 = []<br>\n",
    "Output: []<br><br>\n",
    "Example 3:<br>\n",
    "Input: l1 = [], l2 = [0]<br>\n",
    "Output: [0]"
   ]
  },
  {
   "cell_type": "markdown",
   "metadata": {},
   "source": [
    "This one is basically the same problem as <a href=\"https://github.com/izaher/Problem-solving-with-Python/blob/main/Leetcode-%20Adding%20two%20numbers(linked%20lists).ipynb\"> Adding Two Numbers</a>.\n",
    "Basically we gonna traverse the two lists as long as they're not both None, compare the vales of both nodes add the smaller value to or new list, then add the other value. We then move the two pointers to the next node, and so on till we run out of nodes to traverse. If one list is smaller than the other, we'll just add the nodes of the other lists till we finish.\n",
    "\n",
    "### Time complexity: O(n)"
   ]
  },
  {
   "cell_type": "code",
   "execution_count": null,
   "metadata": {},
   "outputs": [],
   "source": [
    "class Solution:\n",
    "    def mergeTwoLists(self, l1: ListNode, l2: ListNode) -> ListNode:\n",
    "        dummy_head = ListNode(0)\n",
    "        l3 = dummy_head\n",
    "        while l1 and l2:\n",
    "            if l1.val < l2.val:\n",
    "                l3.next =l1\n",
    "                l1 = l1.next\n",
    "            else:\n",
    "                l3.next = l2\n",
    "                l2 = l2.next\n",
    "            l3 = l3.next\n",
    "        if not l2:\n",
    "            l3.next = l1\n",
    "        if not l1:\n",
    "            l3.next = l2\n",
    "\n",
    "        return dummy_head.next\n",
    "                "
   ]
  }
 ],
 "metadata": {
  "kernelspec": {
   "display_name": "Python 3",
   "language": "python",
   "name": "python3"
  },
  "language_info": {
   "codemirror_mode": {
    "name": "ipython",
    "version": 3
   },
   "file_extension": ".py",
   "mimetype": "text/x-python",
   "name": "python",
   "nbconvert_exporter": "python",
   "pygments_lexer": "ipython3",
   "version": "3.9.1"
  }
 },
 "nbformat": 4,
 "nbformat_minor": 4
}
