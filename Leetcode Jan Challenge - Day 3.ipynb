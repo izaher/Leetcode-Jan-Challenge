{
 "cells": [
  {
   "cell_type": "markdown",
   "metadata": {},
   "source": [
    "# Leetcode Jan Challenge (day 3):\n",
    "## Problem: Beautiful Arrangement:"
   ]
  },
  {
   "cell_type": "markdown",
   "metadata": {},
   "source": [
    "suppose you have n integers from 1 to n. We define a beautiful arrangement as an array that is constructed by these n numbers successfully if one of the following is true for the ith position (1 <= i <= n) in this array:\n",
    "\n",
    "The number at the ith position is divisible by i.<br>\n",
    "i is divisible by the number at the ith position.<br>\n",
    "Given an integer n, return the number of the beautiful arrangements that you can construct.<br>\n",
    "\n",
    " \n",
    "\n",
    "Example 1:<br>\n",
    "Input: n = 2<br>\n",
    "Output: 2<br><br>\n",
    "Explanation:<br> <br>\n",
    "The first beautiful arrangement is [1, 2]:<br>\n",
    "Number at the 1st position (i=1) is 1, and 1 is divisible by i (i=1).\n",
    "<br>Number at the 2nd position (i=2) is 2, and 2 is divisible by i (i=2).\n",
    "<br>The second beautiful arrangement is [2, 1]:\n",
    "<br>Number at the 1st position (i=1) is 2, and 2 is divisible by i (i=1).\n",
    "<br>Number at the 2nd position (i=2) is 1, and i (i=2) is divisible by 1."
   ]
  },
  {
   "cell_type": "markdown",
   "metadata": {},
   "source": [
    "## Naive Approach:\n",
    "-we Use itertools.permutations method to get all the permutations of the array containing n numbers. O(n!)\n",
    "    \n",
    "   -for every item in every permutation we check if one of the two given conditions apply, if yes we increment the count by 1.\n",
    "   \n",
    "-the overall complexity of this approach is n! and will mst likely throw a runtime error for n > 5\n",
    "\n",
    "    "
   ]
  },
  {
   "cell_type": "code",
   "execution_count": 98,
   "metadata": {},
   "outputs": [],
   "source": [
    "import itertools\n",
    "def countArrangement(n):\n",
    "    tmp = [i+1 for i in range(n)]\n",
    "    perm = itertools.permutations(tmp)\n",
    "    count = 0\n",
    "    \n",
    "    for p in perm:\n",
    "        ba = True\n",
    "        for i,v in enumerate(p):\n",
    "            if v % (i+1) !=0 and (i+1)%v !=0:\n",
    "                ba = False\n",
    "        if ba:\n",
    "            count +=1\n",
    "    return count       "
   ]
  },
  {
   "cell_type": "markdown",
   "metadata": {},
   "source": [
    "## Recursion:\n",
    "-simply we'll create a recursive function to get all permutations of a given array like so:\n",
    "<img src=\"src/recursion tree.jpg\">\n",
    "\n",
    "but instead of getting all permutations, we'll simultaniously check the given conditions at each stage of recursion, and if the conditions do not hold, we'll not go any deeper into this branch and return.\n",
    "<img src =\"src/recursion tree mod.jpg\">\n",
    "to do this, we need to keep track of the numbers we visit to make sure we're not repeating numbers.\n",
    "\n",
    "### Complexity: \n",
    "O(k). k refers to the number of valid permutations."
   ]
  },
  {
   "cell_type": "code",
   "execution_count": null,
   "metadata": {},
   "outputs": [],
   "source": [
    "def countArrangement(n):\n",
    "    visited = [0 for i in range(n)]\n",
    "    self.count =0\n",
    "    def rec(n,i):\n",
    "        if i >= n:\n",
    "            count +=1\n",
    "            return\n",
    "        for j in range(1,n+1):\n",
    "            if visited[j-1] ==0 and (j % (i+1) ==0) or ((i+1)%j ==0):\n",
    "                \n",
    "                visited[j-1] = 1\n",
    "                rec(n, i+1)\n",
    "                visited[j-1]=0\n",
    "    rec(n,0)\n",
    "    return count\n",
    "                \n",
    "        "
   ]
  },
  {
   "cell_type": "markdown",
   "metadata": {},
   "source": [
    "### Caching:\n",
    "To speed things a bit we can use caching. Caching is somehing i've just learned, so I'm completely, absloutly confident in my ability to explain what the hell i'm doing... Anyway, we can keep track of the visited numbers through caching for faster access during recursion, the problem is we can't pass our recursion path as a list because it's actually unhashable, so we'll pass a string that represents our list throgh the hash fnction, and then convert it back into a list.\n"
   ]
  },
  {
   "cell_type": "code",
   "execution_count": null,
   "metadata": {},
   "outputs": [],
   "source": [
    "def countArrangement(n):\n",
    "    visited = [0 for i in range(n)]\n",
    "    @lru_cache(None)\n",
    "    def rec(n,i, visited):\n",
    "        if i >= n:\n",
    "            return 1\n",
    "        count =0\n",
    "        visited = [int(v) for v in visited[1:-1].split(',')]\n",
    "        for j in range(1,n+1):\n",
    "            if visited[j-1] ==0 and (j % (i+1) ==0) or ((i+1)%j ==0): \n",
    "                visited[j-1] = 1\n",
    "                count+= rec(n, i+1,str(visited))\n",
    "                visited[j-1]=0\n",
    "        return count\n",
    "    return rec(n, 0,str(visited))\n",
    "                \n",
    "        "
   ]
  }
 ],
 "metadata": {
  "kernelspec": {
   "display_name": "Python 3",
   "language": "python",
   "name": "python3"
  },
  "language_info": {
   "codemirror_mode": {
    "name": "ipython",
    "version": 3
   },
   "file_extension": ".py",
   "mimetype": "text/x-python",
   "name": "python",
   "nbconvert_exporter": "python",
   "pygments_lexer": "ipython3",
   "version": "3.9.1"
  }
 },
 "nbformat": 4,
 "nbformat_minor": 4
}
