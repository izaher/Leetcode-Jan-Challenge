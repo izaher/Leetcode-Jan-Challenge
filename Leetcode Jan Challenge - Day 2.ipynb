{
 "cells": [
  {
   "cell_type": "markdown",
   "metadata": {},
   "source": [
    "# Leetcode Jan Challenge (day 2)\n",
    "### Find a Corresponding Node of a Binary Tree in a Clone of That Tree"
   ]
  },
  {
   "cell_type": "markdown",
   "metadata": {},
   "source": [
    "Given two binary trees original and cloned and given a reference to a node target in the original tree.\n",
    "\n",
    "The cloned tree is a copy of the original tree.\n",
    "\n",
    "Return a reference to the same node in the cloned tree.\n",
    "\n",
    "Note that you are not allowed to change any of the two trees or the target node and the answer must be a reference to a node in the cloned tree.\n",
    "\n",
    "Follow up: Solve the problem if repeated values on the tree are allowed.\n",
    "\n",
    "\n",
    "Example 1:<br>\n",
    "<img src=\"https://assets.leetcode.com/uploads/2020/02/21/e1.png\">\n",
    "Input: tree = [7,4,3,null,null,6,19], target = 3<br>\n",
    "Output: 3<br>\n",
    "Explanation: In all examples the original and cloned trees are shown. The target node is a green node from the original tree. The answer is the yellow node from the cloned tree.\n",
    "\n",
    "\n",
    "Example 2:<br>\n",
    "<img src=\"https://assets.leetcode.com/uploads/2020/02/21/e2.png\">\n",
    "Input: tree = [7], target =  7<br>\n",
    "Output: 7<br>\n",
    "\n",
    "\n",
    "Example 3:<br>\n",
    "<img src=\"https://assets.leetcode.com/uploads/2020/02/21/e3.png\">\n",
    "Input: tree = [8,null,6,null,5,null,4,null,3,null,2,null,1], target = 4<br>\n",
    "Output: 4\n",
    "\n",
    "##### Constraints:\n",
    "The number of nodes in the tree is in the range [1, 10^4].<br>\n",
    "The values of the nodes of the tree are unique.<br>\n",
    "target node is a node from the original tree and is not null.<br>"
   ]
  },
  {
   "cell_type": "markdown",
   "metadata": {},
   "source": [
    "### DFS: Recursive Inorder Traversal:\n",
    "we recursively do an inorder traversal on the left subtree, visit the root node, and finally do a recursive inorder traversal of the right subtree.(Left > Node > Right): do the recursive call for the left child, check if the node is a target one or not, and then do the recursive call for the right child.\n",
    "\n",
    "#### Complexity O(n)"
   ]
  },
  {
   "cell_type": "code",
   "execution_count": 4,
   "metadata": {},
   "outputs": [],
   "source": [
    "class Solution:\n",
    "    def getTargetCopy(self, original: TreeNode, cloned: TreeNode, target: TreeNode) -> TreeNode:\n",
    "        \n",
    "        def inorder(o, c):\n",
    "            if o:\n",
    "                inorder(o.left, c.left)\n",
    "                if o is target:\n",
    "                    self.ans = c\n",
    "                inorder(o.right, c.right)\n",
    "                \n",
    "        inorder(original, cloned)\n",
    "        return self.ans "
   ]
  }
 ],
 "metadata": {
  "kernelspec": {
   "display_name": "Python 3",
   "language": "python",
   "name": "python3"
  },
  "language_info": {
   "codemirror_mode": {
    "name": "ipython",
    "version": 3
   },
   "file_extension": ".py",
   "mimetype": "text/x-python",
   "name": "python",
   "nbconvert_exporter": "python",
   "pygments_lexer": "ipython3",
   "version": "3.9.1"
  }
 },
 "nbformat": 4,
 "nbformat_minor": 4
}
