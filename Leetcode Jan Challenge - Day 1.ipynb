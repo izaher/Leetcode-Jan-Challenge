{
 "cells": [
  {
   "cell_type": "markdown",
   "metadata": {},
   "source": [
    "# Leetcode Jan Challenge (day 1)\n",
    "\n",
    "### Problem: Check Array Formation Through Concatenation"
   ]
  },
  {
   "cell_type": "markdown",
   "metadata": {},
   "source": [
    "You are given an array of distinct integers arr and an array of integer arrays pieces, where the integers in pieces are distinct. Your goal is to form arr by concatenating the arrays in pieces in any order. However, you are not allowed to reorder the integers in each array pieces[i].\n",
    "\n",
    "Return true if it is possible to form the array arr from pieces. Otherwise, return false.\n",
    "\n",
    "Example 1:<br>\n",
    "Input: arr = [85], pieces = [[85]]<br>\n",
    "Output: true<br>\n",
    "\n",
    "\n",
    "Example 2:<br>\n",
    "Input: arr = [15,88], pieces = [[88],[15]]\n",
    "<br>Output: true\n",
    "<br>Explanation: Concatenate [15] then [88]\n",
    "<br><br>Example 3:\n",
    "<br>Input: arr = [49,18,16], pieces = [[16,18,49]]\n",
    "<br>Output: false\n",
    "<br>Explanation: Even though the numbers match, we cannot reorder pieces[0].\n",
    "\n",
    "\n",
    "Example 4:<br>\n",
    "Input: arr = [91,4,64,78], pieces = [[78],[4,64],[91]]\n",
    "<br>Output: true\n",
    "<br>Explanation: Concatenate [91] then [4,64] then [78]\n",
    "<br><br>Example 5:\n",
    "<br>Input: arr = [1,3,5,7], pieces = [[2,4,6,8]]\n",
    "<br>Output: false\n",
    " \n",
    "\n",
    "Constraints:<br>\n",
    "\n",
    "1 <= pieces.length <= arr.length <= 100<br>\n",
    "sum(pieces[i].length) == arr.length<br>\n",
    "1 <= pieces[i].length <= arr.length<br>\n",
    "1 <= arr[i], pieces[i][j] <= 100<br>\n",
    "The integers in arr are distinct.<br>\n",
    "The integers in pieces are distinct (i.e., If we flatten pieces in a 1D array, all the integers in this array are distinct).<br>"
   ]
  },
  {
   "cell_type": "markdown",
   "metadata": {},
   "source": [
    "### Hash Map:\n",
    "The solution is straightforward:\n",
    "<ol>\n",
    "    <li>We'll index the pieces array into a hash map with the indices being the first entry of each item in pieces, and the values being the whole entry ```hash_map[pieces[i][0]] = pieces[i]``` </li><br>\n",
    "    <li>Then lookup all the intries from arrayy in the hash map</li><br>\n",
    "    <li>If array[i] exists in the hash map, we'll append it in a new check array</li><br>\n",
    "    <li>compare the original array to the check array, and return true if the mach </li><br>"
   ]
  },
  {
   "cell_type": "code",
   "execution_count": 3,
   "metadata": {},
   "outputs": [],
   "source": [
    "class Solution:\n",
    "    def canFormArray(self, arr, pieces):\n",
    "        new_dict = dict()\n",
    "        for i in range(len(pieces)):\n",
    "            new_dict[pieces[i][0]] = pieces[i]\n",
    "        check_array = []\n",
    "        for i in arr:\n",
    "            if i in new_dict:\n",
    "                for j in new_dict[i]:\n",
    "                    check_array.append(j)\n",
    "        return True if arr == check_array else False"
   ]
  },
  {
   "cell_type": "code",
   "execution_count": 4,
   "metadata": {
    "scrolled": true
   },
   "outputs": [
    {
     "data": {
      "text/plain": [
       "True"
      ]
     },
     "execution_count": 4,
     "metadata": {},
     "output_type": "execute_result"
    }
   ],
   "source": [
    "\n",
    "arr = [91,4,64,78]\n",
    "pieces = [[78],[4,64],[91]]\n",
    "\n",
    "test_case = Solution()\n",
    "test_case.canFormArray(arr, pieces)\n"
   ]
  }
 ],
 "metadata": {
  "kernelspec": {
   "display_name": "Python 3",
   "language": "python",
   "name": "python3"
  },
  "language_info": {
   "codemirror_mode": {
    "name": "ipython",
    "version": 3
   },
   "file_extension": ".py",
   "mimetype": "text/x-python",
   "name": "python",
   "nbconvert_exporter": "python",
   "pygments_lexer": "ipython3",
   "version": "3.9.1"
  }
 },
 "nbformat": 4,
 "nbformat_minor": 4
}
